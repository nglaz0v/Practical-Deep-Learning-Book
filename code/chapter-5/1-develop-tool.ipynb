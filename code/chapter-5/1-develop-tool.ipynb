{
 "cells": [
  {
   "cell_type": "markdown",
   "metadata": {
    "colab_type": "text",
    "id": "ToCsmp1pc1wS"
   },
   "source": [
    "<table class=\"tfo-notebook-buttons\" align=\"center\">\n",
    "  <td>\n",
    "    <a target=\"_blank\" href=\"https://colab.research.google.com/github/PracticalDL/Practical-Deep-Learning-Book/blob/master/code/chapter-5/1-develop-tool.ipynb\"><img src=\"https://www.tensorflow.org/images/colab_logo_32px.png\" />Run in Google Colab</a>\n",
    "  </td>\n",
    "  <td>\n",
    "    <a target=\"_blank\" href=\"https://github.com/PracticalDL/Practical-Deep-Learning-Book/blob/master/code/chapter-5/1-develop-tool.ipynb\"><img src=\"https://www.tensorflow.org/images/GitHub-Mark-32px.png\" />View source on GitHub</a>\n",
    "  </td>\n",
    "</table>"
   ]
  },
  {
   "cell_type": "markdown",
   "metadata": {
    "colab_type": "text",
    "id": "Pknp7a70h6IF"
   },
   "source": [
    "# Chapter 5 - From Novice to Master Predictor: Maximizing Convolutional Neural Network Accuracy\n",
    "\n",
    "\n",
    "We explore strategies to maximize the accuracy that our classifier can achieve, with the help of a range of tools including TensorBoard, What-If Tool, tf-explain, TensorFlow Datasets, AutoKeras, AutoAugment. Along the way, we conduct experiments to develop an intuition of what parameters might or might not work for your AI task. [Read online here.](https://learning.oreilly.com/library/view/practical-deep-learning/9781492034858/ch05.html)\n",
    "\n",
    "## Tools\n",
    "\n",
    "In this file, we will develop a tool to experiment with various parameter settings of a model. One can choose amongst different kinds of augmentation techniques, use different datasets available in TensorFlow Datasets, choose to train either from scratch or use finetune from MobileNet or any model of your choice, all in the browser without any framework installs on your system. "
   ]
  },
  {
   "cell_type": "code",
   "execution_count": 1,
   "metadata": {
    "colab": {
     "base_uri": "https://localhost:8080/",
     "height": 1000
    },
    "colab_type": "code",
    "id": "hJduD52zNu0Q",
    "outputId": "406835cb-d9a7-43f5-d522-47f7260b04ef"
   },
   "outputs": [],
   "source": [
    "# # Perform all installations\n",
    "# !pip install tensorflow-gpu==2.0.0\n",
    "# !pip install tensorflow-datasets\n",
    "# !pip install tensorwatch"
   ]
  },
  {
   "cell_type": "code",
   "execution_count": 2,
   "metadata": {
    "colab": {
     "base_uri": "https://localhost:8080/",
     "height": 1000
    },
    "colab_type": "code",
    "id": "hJduD52zNu0Q",
    "outputId": "406835cb-d9a7-43f5-d522-47f7260b04ef"
   },
   "outputs": [],
   "source": [
    "# Get TensorBoard to run \n",
    "%load_ext tensorboard"
   ]
  },
  {
   "cell_type": "code",
   "execution_count": 3,
   "metadata": {
    "colab": {
     "base_uri": "https://localhost:8080/",
     "height": 471
    },
    "colab_type": "code",
    "id": "4UcsyIiLQr_9",
    "outputId": "407b6de2-003a-4987-a2b5-9d0f54d334b0"
   },
   "outputs": [],
   "source": [
    "# Import necessary packages\n",
    "import tensorflow as tf\n",
    "import tensorflow_datasets as tfds\n",
    "\n",
    "# tfds makes a lot of progress bars and they take up a lot of screen space, so lets diable them\n",
    "tfds.disable_progress_bar()\n",
    "\n",
    "import math\n",
    "import numpy as np\n",
    "from tensorflow.keras.preprocessing import image\n",
    "from tensorflow.keras.callbacks import CSVLogger"
   ]
  },
  {
   "cell_type": "markdown",
   "metadata": {
    "colab_type": "text",
    "id": "hZ7ZvJY-r2vY"
   },
   "source": [
    "To make experiments reproducible across runs, we control the amount of randomization possible. Randomization is introduced in initialization of weights of models, randomized shuffling of data. \n",
    "\n",
    "Random number generators can be made reproducible by initializing a seed and that’s exactly what we will do. Various frameworks have their own ways of setting a random seed, some of which are shown below:"
   ]
  },
  {
   "cell_type": "code",
   "execution_count": 4,
   "metadata": {
    "colab": {},
    "colab_type": "code",
    "id": "Kww2jNggsSm9"
   },
   "outputs": [],
   "source": [
    "tf.random.set_seed(1234)\n",
    "np.random.seed(1234)"
   ]
  },
  {
   "cell_type": "code",
   "execution_count": 5,
   "metadata": {
    "colab": {},
    "colab_type": "code",
    "id": "QI_ZhgbpxcEE"
   },
   "outputs": [],
   "source": [
    "# Variables\n",
    "BATCH_SIZE = 32\n",
    "NUM_EPOCHS = 100\n",
    "IMG_H = IMG_W = 224\n",
    "IMG_SIZE = 224\n",
    "LOG_DIR = './log'\n",
    "DEGREES = 10  #for rotation\n",
    "SHUFFLE_BUFFER_SIZE = 1024\n",
    "IMG_CHANNELS = 3"
   ]
  },
  {
   "cell_type": "markdown",
   "metadata": {
    "colab_type": "text",
    "id": "Rv3IASONQeVt"
   },
   "source": [
    "## Dataset\n",
    "\n",
    "Choose the dataset that we want to experiment on. We have tried to build this tool in such a way that it works with all the image datasets available in `TensorFlow Datasets`.\n",
    "\n",
    "To see all available datasets in `TensorFlow Datasets`,  use the following `print` command."
   ]
  },
  {
   "cell_type": "code",
   "execution_count": 6,
   "metadata": {
    "colab": {
     "base_uri": "https://localhost:8080/",
     "height": 54
    },
    "colab_type": "code",
    "id": "eo8WzErmRz9C",
    "outputId": "7f2d7d9f-703c-41c3-a048-9d1b6fa2c32f"
   },
   "outputs": [
    {
     "name": "stdout",
     "output_type": "stream",
     "text": [
      "['abstract_reasoning', 'accentdb', 'aeslc', 'aflw2k3d', 'ag_news_subset', 'ai2_arc', 'ai2_arc_with_ir', 'amazon_us_reviews', 'anli', 'answer_equivalence', 'arc', 'asqa', 'asset', 'assin2', 'bair_robot_pushing_small', 'bccd', 'beans', 'bee_dataset', 'beir', 'big_patent', 'bigearthnet', 'billsum', 'binarized_mnist', 'binary_alpha_digits', 'ble_wind_field', 'blimp', 'booksum', 'bool_q', 'bucc', 'c4', 'c4_wsrs', 'caltech101', 'caltech_birds2010', 'caltech_birds2011', 'cardiotox', 'cars196', 'cassava', 'cats_vs_dogs', 'celeb_a', 'celeb_a_hq', 'cfq', 'cherry_blossoms', 'chexpert', 'cifar10', 'cifar100', 'cifar100_n', 'cifar10_1', 'cifar10_corrupted', 'cifar10_n', 'citrus_leaves', 'cityscapes', 'civil_comments', 'clevr', 'clic', 'clinc_oos', 'cmaterdb', 'cnn_dailymail', 'coco', 'coco_captions', 'coil100', 'colorectal_histology', 'colorectal_histology_large', 'common_voice', 'conll2002', 'conll2003', 'controlled_noisy_web_labels', 'coqa', 'cos_e', 'cosmos_qa', 'covid19', 'covid19sum', 'crema_d', 'criteo', 'cs_restaurants', 'curated_breast_imaging_ddsm', 'cycle_gan', 'd4rl_adroit_door', 'd4rl_adroit_hammer', 'd4rl_adroit_pen', 'd4rl_adroit_relocate', 'd4rl_antmaze', 'd4rl_mujoco_ant', 'd4rl_mujoco_halfcheetah', 'd4rl_mujoco_hopper', 'd4rl_mujoco_walker2d', 'dart', 'davis', 'deep1b', 'deep_weeds', 'definite_pronoun_resolution', 'dementiabank', 'diabetic_retinopathy_detection', 'diamonds', 'div2k', 'dmlab', 'doc_nli', 'dolphin_number_word', 'domainnet', 'downsampled_imagenet', 'drop', 'dsprites', 'dtd', 'duke_ultrasound', 'e2e_cleaned', 'efron_morris75', 'emnist', 'eraser_multi_rc', 'esnli', 'eurosat', 'fashion_mnist', 'flic', 'flores', 'food101', 'forest_fires', 'fuss', 'gap', 'geirhos_conflict_stimuli', 'gem', 'genomics_ood', 'german_credit_numeric', 'gigaword', 'glove100_angular', 'glue', 'goemotions', 'gov_report', 'gpt3', 'gref', 'groove', 'grounded_scan', 'gsm8k', 'gtzan', 'gtzan_music_speech', 'hellaswag', 'higgs', 'hillstrom', 'horses_or_humans', 'howell', 'i_naturalist2017', 'i_naturalist2018', 'i_naturalist2021', 'imagenet2012', 'imagenet2012_corrupted', 'imagenet2012_fewshot', 'imagenet2012_multilabel', 'imagenet2012_real', 'imagenet2012_subset', 'imagenet_a', 'imagenet_lt', 'imagenet_r', 'imagenet_resized', 'imagenet_sketch', 'imagenet_v2', 'imagenette', 'imagewang', 'imdb_reviews', 'irc_disentanglement', 'iris', 'istella', 'kddcup99', 'kitti', 'kmnist', 'laion400m', 'lambada', 'lfw', 'librispeech', 'librispeech_lm', 'libritts', 'ljspeech', 'lm1b', 'locomotion', 'lost_and_found', 'lsun', 'lvis', 'malaria', 'math_dataset', 'math_qa', 'mctaco', 'media_sum', 'mlqa', 'mnist', 'mnist_corrupted', 'movie_lens', 'movie_rationales', 'movielens', 'moving_mnist', 'mrqa', 'mslr_web', 'mt_opt', 'mtnt', 'multi_news', 'multi_nli', 'multi_nli_mismatch', 'natural_instructions', 'natural_questions', 'natural_questions_open', 'newsroom', 'nsynth', 'nyu_depth_v2', 'ogbg_molpcba', 'omniglot', 'open_images_challenge2019_detection', 'open_images_v4', 'openbookqa', 'opinion_abstracts', 'opinosis', 'opus', 'oxford_flowers102', 'oxford_iiit_pet', 'para_crawl', 'pass', 'patch_camelyon', 'paws_wiki', 'paws_x_wiki', 'penguins', 'pet_finder', 'pg19', 'piqa', 'places365_small', 'placesfull', 'plant_leaves', 'plant_village', 'plantae_k', 'protein_net', 'q_re_cc', 'qa4mre', 'qasc', 'quac', 'quality', 'quickdraw_bitmap', 'race', 'radon', 'reddit', 'reddit_disentanglement', 'reddit_tifu', 'ref_coco', 'resisc45', 'rlu_atari', 'rlu_atari_checkpoints', 'rlu_atari_checkpoints_ordered', 'rlu_control_suite', 'rlu_dmlab_explore_object_rewards_few', 'rlu_dmlab_explore_object_rewards_many', 'rlu_dmlab_rooms_select_nonmatching_object', 'rlu_dmlab_rooms_watermaze', 'rlu_dmlab_seekavoid_arena01', 'rlu_locomotion', 'rlu_rwrl', 'robomimic_ph', 'robonet', 'robosuite_panda_pick_place_can', 'rock_paper_scissors', 'rock_you', 's3o4d', 'salient_span_wikipedia', 'samsum', 'savee', 'scan', 'scene_parse150', 'schema_guided_dialogue', 'sci_tail', 'scicite', 'scientific_papers', 'scrolls', 'sentiment140', 'shapes3d', 'sift1m', 'simpte', 'siscore', 'smallnorb', 'smartwatch_gestures', 'snli', 'so2sat', 'speech_commands', 'spoken_digit', 'squad', 'squad_question_generation', 'stanford_dogs', 'stanford_online_products', 'star_cfq', 'starcraft_video', 'stl10', 'story_cloze', 'summscreen', 'sun397', 'super_glue', 'svhn_cropped', 'symmetric_solids', 'tao', 'tatoeba', 'ted_hrlr_translate', 'ted_multi_translate', 'tedlium', 'tf_flowers', 'the300w_lp', 'tiny_shakespeare', 'titanic', 'trec', 'trivia_qa', 'tydi_qa', 'uc_merced', 'ucf101', 'unified_qa', 'universal_dependencies', 'user_libri_audio', 'user_libri_text', 'vctk', 'visual_domain_decathlon', 'voc', 'voxceleb', 'voxforge', 'waymo_open_dataset', 'web_graph', 'web_nlg', 'web_questions', 'wider_face', 'wiki40b', 'wiki_auto', 'wiki_bio', 'wiki_dialog', 'wiki_table_questions', 'wiki_table_text', 'wikiann', 'wikihow', 'wikipedia', 'wikipedia_toxicity_subtypes', 'wine_quality', 'winogrande', 'wit', 'wit_kaggle', 'wmt13_translate', 'wmt14_translate', 'wmt15_translate', 'wmt16_translate', 'wmt17_translate', 'wmt18_translate', 'wmt19_translate', 'wmt_t2t_translate', 'wmt_translate', 'wordnet', 'wsc273', 'xnli', 'xquad', 'xsum', 'xtreme_pawsx', 'xtreme_pos', 'xtreme_s', 'xtreme_xnli', 'yahoo_ltrc', 'yelp_polarity_reviews', 'yes_no', 'youtube_vis']\n"
     ]
    }
   ],
   "source": [
    "# View all available datasets\n",
    "print(tfds.list_builders())"
   ]
  },
  {
   "cell_type": "code",
   "execution_count": 7,
   "metadata": {
    "colab": {},
    "colab_type": "code",
    "id": "Jo_r3u6kQcZ6"
   },
   "outputs": [],
   "source": [
    "# Choose dataset\n",
    "\n",
    "#dataset_name = \"colorectal_histology\"\n",
    "#dataset_name = \"caltech101\"\n",
    "#dataset_name = \"oxford_flowers102\"\n",
    "dataset_name = \"cats_vs_dogs\""
   ]
  },
  {
   "cell_type": "markdown",
   "metadata": {
    "colab_type": "text",
    "id": "n9pr4pVkSX2D"
   },
   "source": [
    "### Dataset Preprocessing and Augmenting\n",
    "\n",
    "Let's define some preprocessing and augmentation functions.\n",
    "\n",
    "Note that bicubic resizing functionality is not available in TFDS yet\n",
    "\n",
    "All `tf.image` augmentations defined at https://www.tensorflow.org/api_docs/python/tf/image."
   ]
  },
  {
   "cell_type": "code",
   "execution_count": 8,
   "metadata": {
    "colab": {},
    "colab_type": "code",
    "id": "fAp_67kDN_n0"
   },
   "outputs": [],
   "source": [
    "def preprocess(ds):\n",
    "    x = tf.image.resize_with_pad(ds['image'], IMG_SIZE, IMG_SIZE)\n",
    "    x = tf.cast(x, tf.float32)\n",
    "    x = (x / 127.5) - 1\n",
    "    return x, ds['label']\n",
    "\n",
    "\n",
    "def augmentation(image, label):\n",
    "    #image = tf.image.resize_with_crop_or_pad(image, IMG_SIZE, IMG_SIZE)\n",
    "\n",
    "    # Random Crop: randomly crops an image and fits to given size\n",
    "    #image = tf.image.random_crop(image,[IMG_SIZE, IMG_SIZE, IMG_CHANNELS])\n",
    "\n",
    "    # Brightness: Adjust brightness by a given max_delta\n",
    "    image = tf.image.random_brightness(image, .1)\n",
    "\n",
    "    # Random Contrast: Add a random contrast to the image\n",
    "    image = tf.image.random_contrast(image, lower=0.0, upper=1.0)\n",
    "\n",
    "    # Flip: Left and right\n",
    "    image = tf.image.random_flip_left_right(image)\n",
    "\n",
    "    # Rotation: Only 90 degrees is currently supported.\n",
    "    # Not all images still look the same after a 90 degree rotation\n",
    "    # Most images are augmented by a 10-30 degree tilt\n",
    "    #image = tf.keras.preprocessing.image.random_rotation(image,10)\n",
    "\n",
    "    # Finally return the augmented image and label\n",
    "    return image, label"
   ]
  },
  {
   "cell_type": "markdown",
   "metadata": {
    "colab_type": "text",
    "id": "iahpaGwaSipp"
   },
   "source": [
    "### Dataset Loading\n",
    "\n",
    "Develop handy functions to load training and validation data.\n",
    "\n",
    "Some of the datasets in `TensorFlow Datasets` do not have a `validation` split. For those datasets we take a small percentage of samples from the `training` set, and treat it as the `validation` set. Splitting the dataset using the `weighted_splits` takes care of randomizing and shuffling data between the splits."
   ]
  },
  {
   "cell_type": "code",
   "execution_count": 9,
   "metadata": {
    "colab": {},
    "colab_type": "code",
    "id": "hsRP-IrrEPcS"
   },
   "outputs": [],
   "source": [
    "def get_dataset(dataset_name, *split_value):\n",
    "    # see all possible splits in dataset\n",
    "    _, info = tfds.load(dataset_name, with_info=True)\n",
    "    #print(info)\n",
    "    if \"validation\" in info.splits:\n",
    "        # then load train and validation\n",
    "        if len(split_value) == 1:\n",
    "            print(\n",
    "                \"INFO: Splitting train dataset according to splits provided by user\"\n",
    "            )\n",
    "            if \"test\" in info.splits:\n",
    "                print('INFO: Test dataset is available')\n",
    "                all_data = tfds.Split.TEST + tfds.Split.TRAIN\n",
    "                print(\"INFO: Added test data to train data\")\n",
    "                train, info_train = tfds.load(dataset_name,\n",
    "                                              split=all_data,\n",
    "                                              with_info=True)\n",
    "                NUM_CLASSES = info_train.features['label'].num_classes\n",
    "                NUM_EXAMPLES = info_train.splits['train'].num_examples\n",
    "            else:\n",
    "                all_data = tfds.Split.TRAIN\n",
    "            split_train, _ = all_data.subsplit(\n",
    "                weighted=[split_value[0], 100 - split_value[0]])\n",
    "            # Load train with the new split\n",
    "            train, info_train = tfds.load(dataset_name,\n",
    "                                          split=split_train,\n",
    "                                          with_info=True)\n",
    "        else:\n",
    "            #load training dataset the without any user intervention way\n",
    "            print(\"INFO: Loading standard splits for training dataset\")\n",
    "            train, info_train = tfds.load(dataset_name,\n",
    "                                          split=tfds.Split.TRAIN,\n",
    "                                          with_info=True)\n",
    "        # Load validation dataset as is standard\n",
    "        val, info_val = tfds.load(dataset_name,\n",
    "                                  split=tfds.Split.VALIDATION,\n",
    "                                  with_info=True)\n",
    "        NUM_CLASSES = info_train.features['label'].num_classes\n",
    "        NUM_EXAMPLES = info_train.splits['train'].num_examples\n",
    "    else:\n",
    "        # Validation not in default datasets\n",
    "        print(\n",
    "            \"INFO: Defining a 90-10 split between training and validation as no default split exists.\"\n",
    "        )\n",
    "        # Here we have defined how to split the original train dataset into train and val\n",
    "        # Use 90% as train dataset and 10% as validation dataset\n",
    "        train, info_train = tfds.load(dataset_name,\n",
    "                                      split='train[:90%]',\n",
    "                                      with_info=True)\n",
    "        val, info_val = tfds.load(dataset_name,\n",
    "                                  split='train[90%:]',\n",
    "                                  with_info=True)\n",
    "        NUM_CLASSES = info_train.features['label'].num_classes\n",
    "        # The total number of classes in training dataset should either be equal to or more than the total number of classes in validation dataset\n",
    "        assert NUM_CLASSES >= info_val.features['label'].num_classes\n",
    "        NUM_EXAMPLES = info_train.splits['train'].num_examples * 0.9\n",
    "\n",
    "    # Standard processing for training and validation set\n",
    "    IMG_H, IMG_W, IMG_CHANNELS = info_train.features['image'].shape\n",
    "    if IMG_H == None or IMG_H != IMG_SIZE:\n",
    "        IMG_H = IMG_SIZE\n",
    "    if IMG_W == None or IMG_W != IMG_SIZE:\n",
    "        IMG_W = IMG_SIZE\n",
    "    if IMG_CHANNELS == None:\n",
    "        IMG_CHANNELS = 3\n",
    "\n",
    "    # Training specific processing\n",
    "    train = train.map(preprocess).repeat().shuffle(SHUFFLE_BUFFER_SIZE).batch(\n",
    "        BATCH_SIZE)\n",
    "    train = train.map(augmentation)\n",
    "    train = train.prefetch(tf.data.experimental.AUTOTUNE)\n",
    "\n",
    "    # Validation specific processing\n",
    "    val = val.map(preprocess).repeat().batch(BATCH_SIZE)\n",
    "    val = val.prefetch(tf.data.experimental.AUTOTUNE)\n",
    "\n",
    "    return train, info_train, val, info_val, IMG_H, IMG_W, IMG_CHANNELS, NUM_CLASSES, NUM_EXAMPLES"
   ]
  },
  {
   "cell_type": "markdown",
   "metadata": {
    "colab_type": "text",
    "id": "rusRxOdWWZhZ"
   },
   "source": [
    "Now that we have defined all our helper functions, let's use them to get the dataset"
   ]
  },
  {
   "cell_type": "code",
   "execution_count": 10,
   "metadata": {
    "colab": {
     "base_uri": "https://localhost:8080/",
     "height": 1000
    },
    "colab_type": "code",
    "id": "rpIYrRQwg1kx",
    "outputId": "1e005fa5-9ada-42d2-c3c0-5b2aeb141b6c"
   },
   "outputs": [
    {
     "name": "stdout",
     "output_type": "stream",
     "text": [
      "\u001b[1mDownloading and preparing dataset Unknown size (download: Unknown size, generated: Unknown size, total: Unknown size) to C:\\Users\\Asus\\tensorflow_datasets\\cats_vs_dogs\\4.0.0...\u001b[0m\n"
     ]
    },
    {
     "name": "stderr",
     "output_type": "stream",
     "text": [
      "WARNING:absl:1738 images were corrupted and were skipped\n"
     ]
    },
    {
     "name": "stdout",
     "output_type": "stream",
     "text": [
      "\u001b[1mDataset cats_vs_dogs downloaded and prepared to C:\\Users\\Asus\\tensorflow_datasets\\cats_vs_dogs\\4.0.0. Subsequent calls will reuse this data.\u001b[0m\n",
      "INFO: Defining a 90-10 split between training and validation as no default split exists.\n",
      "\n",
      "\n",
      "IMG_H, IMG_W 224 224\n",
      "IMG_CHANNELS 3\n",
      "NUM_CLASSES 2\n",
      "BATCH_SIZE 32\n",
      "NUM_EXAMPLES 20935.8\n",
      "NUM_EPOCHS 100\n"
     ]
    }
   ],
   "source": [
    "train, info_train, val, info_val, IMG_H, IMG_W, IMG_CHANNELS, NUM_CLASSES, NUM_EXAMPLES = get_dataset(\n",
    "    dataset_name, 100)\n",
    "\n",
    "print(\"\\n\\nIMG_H, IMG_W\", IMG_H, IMG_W)\n",
    "print(\"IMG_CHANNELS\", IMG_CHANNELS)\n",
    "print(\"NUM_CLASSES\", NUM_CLASSES)\n",
    "print(\"BATCH_SIZE\", BATCH_SIZE)\n",
    "print(\"NUM_EXAMPLES\", NUM_EXAMPLES)\n",
    "print(\"NUM_EPOCHS\", NUM_EPOCHS)\n",
    "\n",
    "# If you want to print even more information on both the splits, uncomment the lines below:\n",
    "#print(info_train)\n",
    "#print(info_val)"
   ]
  },
  {
   "cell_type": "markdown",
   "metadata": {
    "colab_type": "text",
    "id": "Chn8a67jWgn4"
   },
   "source": [
    "Great! \n",
    "\n",
    "## Training\n",
    "\n",
    "Here we decide what kind of training to perform. \n",
    "\n",
    "We have defined a model from scratch as well as a model that performs transfer learning on MobileNet. \n",
    "\n",
    "Depending on what dataset we chose, and how different that dataset is from `ImageNet dataset`, we may learn a lot from the experiments on both kinds of trainings."
   ]
  },
  {
   "cell_type": "code",
   "execution_count": 11,
   "metadata": {
    "colab": {},
    "colab_type": "code",
    "id": "HZ1lbZR3dy1i"
   },
   "outputs": [],
   "source": [
    "#choose \"scratch\" to train a new model from scratch\n",
    "training_format = \"scratch\"\n",
    "\n",
    "#choose transfer_learning to use finetuning on mobilenet\n",
    "training_format = \"transfer_learning\""
   ]
  },
  {
   "cell_type": "code",
   "execution_count": 12,
   "metadata": {
    "colab": {
     "base_uri": "https://localhost:8080/",
     "height": 86
    },
    "colab_type": "code",
    "id": "g0A6MFDBXyQr",
    "outputId": "e673f9a7-d0aa-448b-fbf5-80d52fb25ee7"
   },
   "outputs": [
    {
     "name": "stdout",
     "output_type": "stream",
     "text": [
      "WARNING:tensorflow:`write_grads` will be ignored in TensorFlow 2.0 for the `TensorBoard` Callback.\n"
     ]
    },
    {
     "name": "stderr",
     "output_type": "stream",
     "text": [
      "WARNING:tensorflow:`write_grads` will be ignored in TensorFlow 2.0 for the `TensorBoard` Callback.\n"
     ]
    },
    {
     "name": "stdout",
     "output_type": "stream",
     "text": [
      "WARNING:tensorflow:`batch_size` is no longer needed in the `TensorBoard` Callback and will be ignored in TensorFlow 2.0.\n"
     ]
    },
    {
     "name": "stderr",
     "output_type": "stream",
     "text": [
      "WARNING:tensorflow:`batch_size` is no longer needed in the `TensorBoard` Callback and will be ignored in TensorFlow 2.0.\n"
     ]
    }
   ],
   "source": [
    "#Allow TensorBoard callbacks\n",
    "tensorboard_callback = tf.keras.callbacks.TensorBoard(LOG_DIR,\n",
    "                                                      histogram_freq=1,\n",
    "                                                      write_graph=True,\n",
    "                                                      write_grads=True,\n",
    "                                                      batch_size=BATCH_SIZE,\n",
    "                                                      write_images=True)"
   ]
  },
  {
   "cell_type": "markdown",
   "metadata": {},
   "source": [
    "### Model definition for training from scratch"
   ]
  },
  {
   "cell_type": "code",
   "execution_count": 13,
   "metadata": {
    "colab": {},
    "colab_type": "code",
    "id": "Mpp4mC6pX2uE"
   },
   "outputs": [],
   "source": [
    "def create_model():\n",
    "    model = tf.keras.Sequential([\n",
    "        tf.keras.layers.Conv2D(32, (3, 3),\n",
    "                               activation='relu',\n",
    "                               input_shape=(IMG_SIZE, IMG_SIZE, IMG_CHANNELS)),\n",
    "        tf.keras.layers.MaxPool2D(pool_size=(2, 2)),\n",
    "        tf.keras.layers.Conv2D(32, (3, 3), activation='relu'),\n",
    "        tf.keras.layers.MaxPool2D(pool_size=(2, 2)),\n",
    "        tf.keras.layers.Conv2D(32, (3, 3), activation='relu'),\n",
    "        tf.keras.layers.MaxPool2D(pool_size=(2, 2)),\n",
    "        tf.keras.layers.Dropout(rate=0.3),\n",
    "        tf.keras.layers.Flatten(),\n",
    "        tf.keras.layers.Dense(128, activation='relu'),\n",
    "        tf.keras.layers.Dropout(rate=0.3),\n",
    "        tf.keras.layers.Dense(NUM_CLASSES, activation='softmax')\n",
    "    ])\n",
    "    return model\n",
    "\n",
    "\n",
    "def scratch(train, val, learning_rate):\n",
    "    model = create_model()\n",
    "    model.summary()\n",
    "    model.compile(\n",
    "        optimizer=tf.keras.optimizers.Adam(learning_rate=learning_rate),\n",
    "        loss='sparse_categorical_crossentropy',\n",
    "        metrics=['accuracy'])\n",
    "    earlystop_callback = tf.keras.callbacks.EarlyStopping(\n",
    "        monitor='val_accuracy', min_delta=0.0001, patience=5)\n",
    "    csv_logger = CSVLogger('colorectal-scratch-' + 'log.csv',\n",
    "                           append=True,\n",
    "                           separator=';')\n",
    "\n",
    "    model.fit(train,\n",
    "              epochs=NUM_EPOCHS,\n",
    "              steps_per_epoch=int(NUM_EXAMPLES / BATCH_SIZE),\n",
    "              validation_data=val,\n",
    "              validation_steps=1,\n",
    "              validation_freq=1,\n",
    "              callbacks=[tensorboard_callback, earlystop_callback, csv_logger])\n",
    "    return model"
   ]
  },
  {
   "cell_type": "markdown",
   "metadata": {},
   "source": [
    "### Model Defination for fine-tuning\n",
    "\n",
    "We will be using the MobileNet model for fine-tuning. We can decide how many layers of the model to train by un-freeze the top layers of the model as follows:\n",
    "\n",
    "```\n",
    "#Our unfreeze_percentage variable helps us decide how many layers to unfreeze\n",
    "unfreeze_percentage = 0.75\n",
    "\n",
    "#Initially set all layers to fixed, i.e., not trainable\n",
    "mobile_net.trainable=False\n",
    "  \n",
    "#Find total number of layers in base model \n",
    "num_layers = len(mobile_net.layers)\n",
    "print(\"Total number of layers in MobileNet: \", num_layers)\n",
    " \n",
    "#Set the last few layers to be trainable\n",
    "for layer_index in range(int(num_layers - unfreeze_percentage*num_layers), num_layers):\n",
    "    print(layer_index, mobile_net.layers[layer_index])\n",
    "    \n",
    "    #set the layer to be trainable\n",
    "    mobile_net.layers[layer_index].trainable = True\n",
    "```\n",
    "\n",
    "All you need to do is unfreeze the last few layers in the `mobile_net` model or set them trainable. Then, you should recompile the model (necessary for these changes to take effect), and resume training."
   ]
  },
  {
   "cell_type": "code",
   "execution_count": 14,
   "metadata": {
    "colab": {},
    "colab_type": "code",
    "id": "4WM_eV6RSyIW"
   },
   "outputs": [],
   "source": [
    "def transfer_learn(train, val, unfreeze_percentage, learning_rate):\n",
    "    mobile_net = tf.keras.applications.MobileNet(input_shape=(IMG_SIZE,\n",
    "                                                              IMG_SIZE,\n",
    "                                                              IMG_CHANNELS),\n",
    "                                                 include_top=False)\n",
    "    # Use mobile_net.summary() to view the model\n",
    "    mobile_net.trainable = False\n",
    "    # Unfreeze some of the layers according to the dataset being used\n",
    "    num_layers = len(mobile_net.layers)\n",
    "    for layer_index in range(\n",
    "            int(num_layers - unfreeze_percentage * num_layers), num_layers):\n",
    "        mobile_net.layers[layer_index].trainable = True\n",
    "    model_with_transfer_learning = tf.keras.Sequential([\n",
    "        mobile_net,\n",
    "        tf.keras.layers.GlobalAveragePooling2D(),\n",
    "        tf.keras.layers.Flatten(),\n",
    "        tf.keras.layers.Dense(64),\n",
    "        tf.keras.layers.Dropout(0.3),\n",
    "        tf.keras.layers.Dense(NUM_CLASSES, activation='softmax')\n",
    "    ], )\n",
    "    model_with_transfer_learning.compile(\n",
    "        optimizer=tf.keras.optimizers.Adam(learning_rate=learning_rate),\n",
    "        loss='sparse_categorical_crossentropy',\n",
    "        metrics=[\"accuracy\"])\n",
    "    model_with_transfer_learning.summary()\n",
    "    earlystop_callback = tf.keras.callbacks.EarlyStopping(\n",
    "        monitor='val_accuracy', min_delta=0.0001, patience=10)\n",
    "    csv_logger = CSVLogger('colorectal-transferlearn-' + 'log.csv',\n",
    "                           append=True,\n",
    "                           separator=';')\n",
    "    model_with_transfer_learning.fit(\n",
    "        train,\n",
    "        epochs=NUM_EPOCHS,\n",
    "        steps_per_epoch=int(NUM_EXAMPLES / BATCH_SIZE),\n",
    "        validation_data=val,\n",
    "        validation_steps=1,\n",
    "        validation_freq=1,\n",
    "        callbacks=[tensorboard_callback, earlystop_callback, csv_logger])\n",
    "    return model_with_transfer_learning"
   ]
  },
  {
   "cell_type": "markdown",
   "metadata": {
    "colab_type": "text",
    "id": "OOg-rjnBugSj"
   },
   "source": [
    "Recall that `tf.keras.layers.BatchNormalization` and `tf.keras.layers.Dropout` are applicable only during training. They are turned off when calculating validation loss.\n",
    "\n",
    "Also, remember that training metrics report the average for an epoch, while validation metrics are evaluated after the epoch, so validation metrics see a model that has trained slightly longer.\n",
    "\n",
    "Run the following cells to start the training and then come back up to look at TensorBoard.\n",
    "\n",
    "## TensorBoard\n",
    "\n",
    "Let's focus on what we can learn fom TensorBoard:\n",
    "\n",
    "1. Visualize the training and validation accuracy and loss.\n",
    "2. View the output from each layer by clicking on the `Images` tab. This takes some time to load so grab a coffee!\n",
    "\n",
    "We can edit the size of the results we are looking at, add additional contrast and brightness.\n",
    "\n",
    "3. Visualize the graph of the network that we just trained. \n",
    "4. The `Distributions` tab shows the weight distribution of the weight matrices of each of the layers. This is very useful when quantizing a model. And we will be learning more about this in the later chapters. We can view the histogram of this distribution in the `Histogram` tab.\n",
    "\n",
    "\n",
    "\n",
    "\n",
    "\n",
    "Note: You can ALT+Scroll in and out for zoom"
   ]
  },
  {
   "cell_type": "code",
   "execution_count": 15,
   "metadata": {
    "colab": {
     "base_uri": "https://localhost:8080/",
     "height": 836
    },
    "colab_type": "code",
    "id": "mWDKvkWARtQ2",
    "outputId": "b6fffb82-abfa-41a0-ecc1-815e56b7943a"
   },
   "outputs": [
    {
     "data": {
      "text/html": [
       "\n",
       "      <iframe id=\"tensorboard-frame-f90091fb1c853647\" width=\"100%\" height=\"800\" frameborder=\"0\">\n",
       "      </iframe>\n",
       "      <script>\n",
       "        (function() {\n",
       "          const frame = document.getElementById(\"tensorboard-frame-f90091fb1c853647\");\n",
       "          const url = new URL(\"/\", window.location);\n",
       "          const port = 6006;\n",
       "          if (port) {\n",
       "            url.port = port;\n",
       "          }\n",
       "          frame.src = url;\n",
       "        })();\n",
       "      </script>\n",
       "    "
      ],
      "text/plain": [
       "<IPython.core.display.HTML object>"
      ]
     },
     "metadata": {},
     "output_type": "display_data"
    }
   ],
   "source": [
    "# Start TensorBoard\n",
    "%tensorboard --logdir ./log"
   ]
  },
  {
   "cell_type": "code",
   "execution_count": 16,
   "metadata": {
    "colab": {
     "base_uri": "https://localhost:8080/",
     "height": 714
    },
    "colab_type": "code",
    "id": "AU5zrBpccru3",
    "outputId": "18f4b088-b998-4e59-d3b5-0053a1c35724"
   },
   "outputs": [
    {
     "name": "stdout",
     "output_type": "stream",
     "text": [
      "Fine Tuning the MobileNet model\n",
      "Model: \"sequential\"\n",
      "_________________________________________________________________\n",
      " Layer (type)                Output Shape              Param #   \n",
      "=================================================================\n",
      " mobilenet_1.00_224 (Functio  (None, 7, 7, 1024)       3228864   \n",
      " nal)                                                            \n",
      "                                                                 \n",
      " global_average_pooling2d (G  (None, 1024)             0         \n",
      " lobalAveragePooling2D)                                          \n",
      "                                                                 \n",
      " flatten (Flatten)           (None, 1024)              0         \n",
      "                                                                 \n",
      " dense (Dense)               (None, 64)                65600     \n",
      "                                                                 \n",
      " dropout (Dropout)           (None, 64)                0         \n",
      "                                                                 \n",
      " dense_1 (Dense)             (None, 2)                 130       \n",
      "                                                                 \n",
      "=================================================================\n",
      "Total params: 3,294,594\n",
      "Trainable params: 65,730\n",
      "Non-trainable params: 3,228,864\n",
      "_________________________________________________________________\n",
      "Epoch 1/100\n",
      "654/654 [==============================] - 68s 89ms/step - loss: 0.1249 - accuracy: 0.9505 - val_loss: 0.0043 - val_accuracy: 1.0000\n",
      "Epoch 2/100\n",
      "654/654 [==============================] - 49s 74ms/step - loss: 0.0703 - accuracy: 0.9692 - val_loss: 0.0063 - val_accuracy: 1.0000\n",
      "Epoch 3/100\n",
      "654/654 [==============================] - 48s 74ms/step - loss: 0.0770 - accuracy: 0.9655 - val_loss: 0.0091 - val_accuracy: 1.0000\n",
      "Epoch 4/100\n",
      "654/654 [==============================] - 48s 74ms/step - loss: 0.0670 - accuracy: 0.9711 - val_loss: 0.0057 - val_accuracy: 1.0000\n",
      "Epoch 5/100\n",
      "654/654 [==============================] - 49s 74ms/step - loss: 0.0625 - accuracy: 0.9733 - val_loss: 0.0034 - val_accuracy: 1.0000\n",
      "Epoch 6/100\n",
      "654/654 [==============================] - 48s 74ms/step - loss: 0.0649 - accuracy: 0.9702 - val_loss: 0.0032 - val_accuracy: 1.0000\n",
      "Epoch 7/100\n",
      "654/654 [==============================] - 47s 71ms/step - loss: 0.0651 - accuracy: 0.9707 - val_loss: 0.0021 - val_accuracy: 1.0000\n",
      "Epoch 8/100\n",
      "654/654 [==============================] - 46s 71ms/step - loss: 0.0674 - accuracy: 0.9694 - val_loss: 0.0028 - val_accuracy: 1.0000\n",
      "Epoch 9/100\n",
      "654/654 [==============================] - 47s 72ms/step - loss: 0.0644 - accuracy: 0.9711 - val_loss: 0.0064 - val_accuracy: 1.0000\n",
      "Epoch 10/100\n",
      "654/654 [==============================] - 46s 71ms/step - loss: 0.0687 - accuracy: 0.9694 - val_loss: 0.0027 - val_accuracy: 1.0000\n",
      "Epoch 11/100\n",
      "654/654 [==============================] - 47s 73ms/step - loss: 0.0679 - accuracy: 0.9697 - val_loss: 0.0053 - val_accuracy: 1.0000\n"
     ]
    }
   ],
   "source": [
    "# select the percentage of layers to be trained while using the transfer learning\n",
    "# technique. The selected layers will be close to the output/final layers.\n",
    "unfreeze_percentage = 0\n",
    "\n",
    "learning_rate = 0.001\n",
    "\n",
    "if training_format == \"scratch\":\n",
    "    print(\"Training a model from scratch\")\n",
    "    model = scratch(train, val, learning_rate)\n",
    "elif training_format == \"transfer_learning\":\n",
    "    print(\"Fine Tuning the MobileNet model\")\n",
    "    model = transfer_learn(train, val, unfreeze_percentage, learning_rate)"
   ]
  },
  {
   "cell_type": "code",
   "execution_count": 17,
   "metadata": {},
   "outputs": [
    {
     "name": "stderr",
     "output_type": "stream",
     "text": [
      "WARNING:absl:Function `_wrapped_model` contains input name(s) mobilenet_1.00_224_input with unsupported characters which will be renamed to mobilenet_1_00_224_input in the SavedModel.\n",
      "WARNING:absl:Found untraced functions such as _jit_compiled_convolution_op, _jit_compiled_convolution_op, _jit_compiled_convolution_op, _jit_compiled_convolution_op, _jit_compiled_convolution_op while saving (showing 5 of 27). These functions will not be directly callable after loading.\n"
     ]
    },
    {
     "name": "stdout",
     "output_type": "stream",
     "text": [
      "INFO:tensorflow:Assets written to: tmp/model/1/assets\n"
     ]
    },
    {
     "name": "stderr",
     "output_type": "stream",
     "text": [
      "INFO:tensorflow:Assets written to: tmp/model/1/assets\n"
     ]
    }
   ],
   "source": [
    "# Save the model to load it in the What-If tool\n",
    "\n",
    "tf.saved_model.save(model, \"tmp/model/1/\")"
   ]
  },
  {
   "cell_type": "code",
   "execution_count": 18,
   "metadata": {},
   "outputs": [
    {
     "name": "stdout",
     "output_type": "stream",
     "text": [
      "['serving_default']\n"
     ]
    }
   ],
   "source": [
    "# Load the saved model\n",
    "loaded = tf.saved_model.load(\"tmp/model/1\")\n",
    "print(list(loaded.signatures.keys()))  # [\"serving_default\"]"
   ]
  },
  {
   "cell_type": "code",
   "execution_count": 19,
   "metadata": {},
   "outputs": [
    {
     "name": "stdout",
     "output_type": "stream",
     "text": [
      "  adding: tmp/model/1/ (164 bytes security) (stored 0%)\n"
     ]
    }
   ],
   "source": [
    "# Zip the directory so that we can download it\n",
    "!zip model.zip  tmp/model/* "
   ]
  },
  {
   "cell_type": "code",
   "execution_count": 20,
   "metadata": {},
   "outputs": [
    {
     "name": "stderr",
     "output_type": "stream",
     "text": [
      "\"pwd\" ­Ґ пў«пҐвбп ў­гваҐ­­Ґ© Ё«Ё ў­Ґи­Ґ©\n",
      "Є®¬ ­¤®©, ЁбЇ®«­пҐ¬®© Їа®Ја ¬¬®© Ё«Ё Ї ЄҐв­л¬ д ©«®¬.\n"
     ]
    }
   ],
   "source": [
    "# If you are running this in Google Colab,\n",
    "# Go to the content directory and download the trained model\n",
    "\n",
    "!pwd"
   ]
  },
  {
   "cell_type": "markdown",
   "metadata": {},
   "source": [
    "## Summary\n",
    "\n",
    "In our experiment, we were able to modify how many layers of the MobileNet V2 base model we wanted to train. Our training process nudged the weights from a more generic feature set to features associated specifically to the dataset at hand. This is relevant for datasets that are quite different from the ImageNet dataset, or are much smaller.\n",
    "\n",
    "As we learnt in this and the previous chapters, the higher up a layer is, the more specialized it is to the task at hand. The initial layers learn very simple features, like distinguishing an edge, a feature that is common to almost all images. Then, as we proceed to higher layers, features become more specific to the training dataset. \n",
    "\n",
    "Through fine-tuning, we attempted to nudge these higher-layer/specific features to work with a new dataset while still making use of the generic layers."
   ]
  }
 ],
 "metadata": {
  "accelerator": "GPU",
  "colab": {
   "collapsed_sections": [],
   "name": "1-develop-tool",
   "provenance": []
  },
  "kernelspec": {
   "display_name": "Python 3 (ipykernel)",
   "language": "python",
   "name": "python3"
  },
  "language_info": {
   "codemirror_mode": {
    "name": "ipython",
    "version": 3
   },
   "file_extension": ".py",
   "mimetype": "text/x-python",
   "name": "python",
   "nbconvert_exporter": "python",
   "pygments_lexer": "ipython3",
   "version": "3.9.21"
  },
  "toc": {
   "base_numbering": 1,
   "nav_menu": {},
   "number_sections": true,
   "sideBar": true,
   "skip_h1_title": false,
   "title_cell": "Table of Contents",
   "title_sidebar": "Contents",
   "toc_cell": false,
   "toc_position": {},
   "toc_section_display": true,
   "toc_window_display": false
  }
 },
 "nbformat": 4,
 "nbformat_minor": 4
}
